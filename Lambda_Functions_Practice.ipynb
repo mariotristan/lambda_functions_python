{
  "cells": [
    {
      "cell_type": "markdown",
      "metadata": {
        "id": "view-in-github",
        "colab_type": "text"
      },
      "source": [
        "<a href=\"https://colab.research.google.com/github/mariotristan/lambda_functions_python/blob/main/Lambda_Functions_Practice.ipynb\" target=\"_parent\"><img src=\"https://colab.research.google.com/assets/colab-badge.svg\" alt=\"Open In Colab\"/></a>"
      ]
    },
    {
      "cell_type": "markdown",
      "source": [
        "<img src=\"https://drive.google.com/uc?id=1uPUwnTqN6FmhirxTGO-nPf-G4lSF3dn5\" alt=\"Banner\" width=\"1500\">\n",
        "\n",
        "### **Let's Connect!**\n",
        "- [Our website](https://visuallyexplained.co/)\n",
        "- [Udemy](https://www.udemy.com/course/python-visually-explained/?referralCode=606E7991150B0E96C410)\n",
        "- [Skillshare](https://skl.sh/4hV7MaB)\n",
        "- [LinkedIn](https://www.linkedin.com/company/visually-explained/)"
      ],
      "metadata": {
        "id": "-GHnpLZ5sRxS"
      },
      "id": "-GHnpLZ5sRxS"
    },
    {
      "cell_type": "markdown",
      "id": "a150e6e1",
      "metadata": {
        "id": "a150e6e1"
      },
      "source": [
        "# Practice Lambda Functions"
      ]
    },
    {
      "cell_type": "markdown",
      "source": [
        "### Note\n",
        "\n",
        "The exercises in this workbook ask you to write lambda functions and assign them to variables. There is pre-written code to call your lambda function assigned to a varaible with parameter(s). This is to allow you to practice the syntax. However in practice, lambda functions are mostly passed into functions, not assigned to variables."
      ],
      "metadata": {
        "id": "OUpTXd95fWF7"
      },
      "id": "OUpTXd95fWF7"
    },
    {
      "cell_type": "markdown",
      "id": "9a9f30ab",
      "metadata": {
        "id": "9a9f30ab"
      },
      "source": [
        "## Exercise 1: Basic Syntax\n",
        "Write a lambda function that takes a number and returns its square. Assign it to a variable called `square`, and test it on the number `5`."
      ]
    },
    {
      "cell_type": "code",
      "execution_count": 11,
      "id": "7cb1582c",
      "metadata": {
        "id": "7cb1582c",
        "outputId": "e0fa26f3-b2e6-49c7-9130-7885c62c1c5e",
        "colab": {
          "base_uri": "https://localhost:8080/"
        }
      },
      "outputs": [
        {
          "output_type": "stream",
          "name": "stdout",
          "text": [
            "25\n"
          ]
        }
      ],
      "source": [
        "square = lambda number: number ** 2 # your code here\n",
        "print(square(5))"
      ]
    },
    {
      "cell_type": "markdown",
      "id": "57c1d676",
      "metadata": {
        "id": "57c1d676"
      },
      "source": [
        "## Exercise 2: Multiple Parameters\n",
        "Write a lambda function that takes two numbers and returns their product. Assign it to a variable `multiply`, and test it on the numbers `3` and `7`."
      ]
    },
    {
      "cell_type": "code",
      "execution_count": 12,
      "id": "0e89e216",
      "metadata": {
        "id": "0e89e216",
        "colab": {
          "base_uri": "https://localhost:8080/"
        },
        "outputId": "0f9cadb5-cb9f-4bb9-93bc-bf155fbdaf2d"
      },
      "outputs": [
        {
          "output_type": "stream",
          "name": "stdout",
          "text": [
            "21\n"
          ]
        }
      ],
      "source": [
        "multiply = lambda num1, num2: num1 * num2 # your code here\n",
        "print(multiply(3, 7))"
      ]
    },
    {
      "cell_type": "markdown",
      "id": "19ac4139",
      "metadata": {
        "id": "19ac4139"
      },
      "source": [
        "## Exercise 3: Using `map()`\n",
        "You are given a list of numbers:\n",
        "```python\n",
        "nums = [1, 2, 3, 4, 5]\n",
        "```\n",
        "Use `map()` with a lambda function to double each number in the list. Convert the result to a list and print it."
      ]
    },
    {
      "cell_type": "code",
      "execution_count": 13,
      "id": "e13d5a84",
      "metadata": {
        "id": "e13d5a84",
        "colab": {
          "base_uri": "https://localhost:8080/"
        },
        "outputId": "7e949432-a90e-4983-b9d9-1e9a76765f4a"
      },
      "outputs": [
        {
          "output_type": "stream",
          "name": "stdout",
          "text": [
            "[2, 4, 6, 8, 10]\n"
          ]
        }
      ],
      "source": [
        "nums = [1, 2, 3, 4, 5]\n",
        "doubled = map(lambda x: x * 2, nums)\n",
        "print(list(doubled))"
      ]
    },
    {
      "cell_type": "markdown",
      "id": "259476ca",
      "metadata": {
        "id": "259476ca"
      },
      "source": [
        "## Exercise 4: Using `filter()`\n",
        "Use `filter()` and a lambda function to select only the words in this list that are longer than 4 characters:\n",
        "```python\n",
        "words = ['hi', 'hello', 'sun', 'amazing', 'cat']\n",
        "```"
      ]
    },
    {
      "cell_type": "code",
      "execution_count": 14,
      "id": "81b12a88",
      "metadata": {
        "id": "81b12a88",
        "colab": {
          "base_uri": "https://localhost:8080/"
        },
        "outputId": "e73dc21d-7876-417b-a2a5-7743bf2ed5ec"
      },
      "outputs": [
        {
          "output_type": "stream",
          "name": "stdout",
          "text": [
            "['hello', 'amazing']\n"
          ]
        }
      ],
      "source": [
        "words = ['hi', 'hello', 'sun', 'amazing', 'cat']\n",
        "long_words = filter(lambda x: len(x) > 4, words)\n",
        "print(list(long_words))"
      ]
    },
    {
      "cell_type": "markdown",
      "id": "b968bdc9",
      "metadata": {
        "id": "b968bdc9"
      },
      "source": [
        "## Exercise 5: Sorting with Lambda\n",
        "You are given a list of tuples, where each tuple contains a name and a score:\n",
        "```python\n",
        "students = [('Alice', 88), ('Bob', 72), ('Charlie', 95)]\n",
        "```\n",
        "Use the `sorted()` function and a lambda to sort the list **by score in descending order**."
      ]
    },
    {
      "cell_type": "code",
      "execution_count": 15,
      "id": "8eb322fa",
      "metadata": {
        "id": "8eb322fa",
        "colab": {
          "base_uri": "https://localhost:8080/"
        },
        "outputId": "6527dad7-c054-482d-a45e-35f9f1f1ce40"
      },
      "outputs": [
        {
          "output_type": "stream",
          "name": "stdout",
          "text": [
            "[('Charlie', 95), ('Alice', 88), ('Bob', 72)]\n"
          ]
        }
      ],
      "source": [
        "students = [('Alice', 88), ('Bob', 72), ('Charlie', 95)]\n",
        "sorted_students = sorted(students, key=lambda x: x[1], reverse=True)\n",
        "print(sorted_students)"
      ]
    }
  ],
  "metadata": {
    "colab": {
      "provenance": [],
      "include_colab_link": true
    },
    "language_info": {
      "name": "python"
    },
    "kernelspec": {
      "name": "python3",
      "display_name": "Python 3"
    }
  },
  "nbformat": 4,
  "nbformat_minor": 5
}